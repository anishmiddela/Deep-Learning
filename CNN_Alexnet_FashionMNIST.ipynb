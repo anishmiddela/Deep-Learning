{
  "nbformat": 4,
  "nbformat_minor": 0,
  "metadata": {
    "colab": {
      "provenance": [],
      "include_colab_link": true
    },
    "kernelspec": {
      "name": "python3",
      "display_name": "Python 3"
    },
    "language_info": {
      "name": "python"
    },
    "accelerator": "GPU",
    "gpuClass": "standard"
  },
  "cells": [
    {
      "cell_type": "markdown",
      "metadata": {
        "id": "view-in-github",
        "colab_type": "text"
      },
      "source": [
        "<a href=\"https://colab.research.google.com/github/anishmiddela/Deep-Learning/blob/main/CNN_Alexnet_FashionMNIST.ipynb\" target=\"_parent\"><img src=\"https://colab.research.google.com/assets/colab-badge.svg\" alt=\"Open In Colab\"/></a>"
      ]
    },
    {
      "cell_type": "code",
      "execution_count": null,
      "metadata": {
        "id": "0wCBezo6gUBr"
      },
      "outputs": [],
      "source": [
        "# Import libraries\n",
        "import torch\n",
        "import torchvision\n",
        "import torch.nn as tn\n",
        "import torch.optim as opt\n",
        "import torchvision.transforms as tf"
      ]
    },
    {
      "cell_type": "code",
      "source": [
        "# Define device\n",
        "device = torch.device(\"cuda:0\" if torch.cuda.is_available() else \"cpu\")"
      ],
      "metadata": {
        "id": "E3i6UjS4gdFC"
      },
      "execution_count": null,
      "outputs": []
    },
    {
      "cell_type": "code",
      "source": [
        "# Define transform for data\n",
        "transformTrain = tf.Compose([\n",
        "    tf.RandomResizedCrop(224),\n",
        "    tf.RandomHorizontalFlip(),\n",
        "    tf.ToTensor(),\n",
        "    tf.Normalize((0.5,), (0.5,))\n",
        "])"
      ],
      "metadata": {
        "id": "dytaDarrgdzd"
      },
      "execution_count": null,
      "outputs": []
    },
    {
      "cell_type": "code",
      "source": [
        "# Define transform for testing data\n",
        "transformTest = tf.Compose([\n",
        "    tf.Resize(256),\n",
        "    tf.CenterCrop(224),\n",
        "    tf.ToTensor(),\n",
        "    tf.Normalize((0.5,), (0.5,))\n",
        "])"
      ],
      "metadata": {
        "id": "xmKhw7MHgfaZ"
      },
      "execution_count": null,
      "outputs": []
    },
    {
      "cell_type": "code",
      "source": [
        "# Load FashionMNIST dataset\n",
        "training_set = torchvision.datasets.FashionMNIST(root='./data', train=True,\n",
        "                                        download=True, transform=transformTrain)\n",
        "trainloader = torch.utils.data.DataLoader(training_set, batch_size=128,\n",
        "                                          shuffle=True, num_workers=2)\n",
        "testing_set = torchvision.datasets.FashionMNIST(root='./data', train=False,\n",
        "                                       download=True, transform=transformTest)\n",
        "testloader = torch.utils.data.DataLoader(testing_set, batch_size=128,\n",
        "                                         shuffle=False, num_workers=2)"
      ],
      "metadata": {
        "id": "O83mx0oogmtn"
      },
      "execution_count": null,
      "outputs": []
    },
    {
      "cell_type": "code",
      "source": [
        "len(training_set)"
      ],
      "metadata": {
        "colab": {
          "base_uri": "https://localhost:8080/"
        },
        "id": "pLJ5MRg9vZn5",
        "outputId": "88a7bdac-0fd8-4816-8252-374739f28be1"
      },
      "execution_count": null,
      "outputs": [
        {
          "output_type": "execute_result",
          "data": {
            "text/plain": [
              "60000"
            ]
          },
          "metadata": {},
          "execution_count": 6
        }
      ]
    },
    {
      "cell_type": "code",
      "source": [
        "len(testing_set)"
      ],
      "metadata": {
        "colab": {
          "base_uri": "https://localhost:8080/"
        },
        "id": "FRq1AKVavca_",
        "outputId": "a83abd7c-f080-4d42-bbcb-d6066c375df4"
      },
      "execution_count": null,
      "outputs": [
        {
          "output_type": "execute_result",
          "data": {
            "text/plain": [
              "10000"
            ]
          },
          "metadata": {},
          "execution_count": 7
        }
      ]
    },
    {
      "cell_type": "code",
      "source": [
        "# AlexNet architecture\n",
        "class AlexNet(tn.Module):\n",
        "    def __init__(self, num_classes=10):\n",
        "        super(AlexNet, self).__init__()\n",
        "        self.features = tn.Sequential(\n",
        "            tn.Conv2d(1, 64, kernel_size=11, stride=4, padding=2),\n",
        "            tn.ReLU(inplace=True),\n",
        "            tn.MaxPool2d(kernel_size=3, stride=2),\n",
        "            tn.Conv2d(64, 192, kernel_size=5, padding=2),\n",
        "            tn.ReLU(inplace=True),\n",
        "            tn.MaxPool2d(kernel_size=3, stride=2),\n",
        "            tn.Conv2d(192, 384, kernel_size=3, padding=1),\n",
        "            tn.ReLU(inplace=True),\n",
        "            tn.Conv2d(384, 256, kernel_size=3, padding=1),\n",
        "            tn.ReLU(inplace=True),\n",
        "            tn.Conv2d(256, 256, kernel_size=3, padding=1),\n",
        "            tn.ReLU(inplace=True),\n",
        "            tn.MaxPool2d(kernel_size=3, stride=2),\n",
        "        )\n",
        "        self.avgpool = tn.AdaptiveAvgPool2d((6, 6))\n",
        "        self.classifier = tn.Sequential(\n",
        "            tn.Dropout(),\n",
        "            tn.Linear(256 * 6 * 6, 4096),\n",
        "            tn.ReLU(inplace=True),\n",
        "            tn.Dropout(),\n",
        "            tn.Linear(4096, 4096),\n",
        "            tn.ReLU(inplace=True),\n",
        "            tn.Linear(4096, num_classes),\n",
        "        )\n",
        "\n",
        "    def forward(self, x):\n",
        "        x = self.features(x)\n",
        "        x = self.avgpool(x)\n",
        "        x = torch.flatten(x, 1)\n",
        "        x = self.classifier(x)\n",
        "        return x"
      ],
      "metadata": {
        "id": "SzyUJKM0gqsY"
      },
      "execution_count": null,
      "outputs": []
    },
    {
      "cell_type": "code",
      "source": [
        "# Define model, loss function, and optimizer\n",
        "alex = AlexNet().to(device)\n",
        "optimize = opt.SGD(alex.parameters(), lr=0.001, momentum=0.9)\n",
        "lossfunc = tn.CrossEntropyLoss()"
      ],
      "metadata": {
        "id": "xQ5B5Wuhgtc8"
      },
      "execution_count": null,
      "outputs": []
    },
    {
      "cell_type": "code",
      "source": [
        "# Train the network\n",
        "for epoch in range(18):\n",
        "\n",
        "    running_loss = 0.0\n",
        "    for i, data in enumerate(trainloader, 0):\n",
        "\n",
        "        # Get inputs and labels\n",
        "        inputs, labels = data[0].to(device), data[1].to(device)\n",
        "\n",
        "        # Zero the parameter gradients\n",
        "        optimize.zero_grad()\n",
        "\n",
        "        # Forward + backward + optimize\n",
        "        outputs = alex(inputs)\n",
        "        loss = lossfunc(outputs, labels)\n",
        "        loss.backward()\n",
        "        optimize.step()\n",
        "\n",
        "        # Print statistics\n",
        "        running_loss += loss.item()\n",
        "        if i % 100 == 99:\n",
        "            print('[%d, %5d] loss: %.3f' %\n",
        "                  (epoch + 1, i + 1, running_loss / 100))\n",
        "            running_loss = 0.0"
      ],
      "metadata": {
        "colab": {
          "base_uri": "https://localhost:8080/"
        },
        "id": "Yfm-9DQdgxvY",
        "outputId": "52c59298-0ee0-4463-c85b-a5e5e1451349"
      },
      "execution_count": null,
      "outputs": [
        {
          "output_type": "stream",
          "name": "stdout",
          "text": [
            "[1,   100] loss: 0.923\n",
            "[1,   200] loss: 0.895\n",
            "[1,   300] loss: 0.909\n",
            "[1,   400] loss: 0.901\n",
            "[2,   100] loss: 0.887\n",
            "[2,   200] loss: 0.891\n",
            "[2,   300] loss: 0.882\n",
            "[2,   400] loss: 0.889\n",
            "[3,   100] loss: 0.888\n",
            "[3,   200] loss: 0.887\n",
            "[3,   300] loss: 0.879\n",
            "[3,   400] loss: 0.866\n",
            "[4,   100] loss: 0.865\n",
            "[4,   200] loss: 0.857\n",
            "[4,   300] loss: 0.849\n",
            "[4,   400] loss: 0.850\n",
            "[5,   100] loss: 0.860\n",
            "[5,   200] loss: 0.833\n",
            "[5,   300] loss: 0.859\n",
            "[5,   400] loss: 0.832\n",
            "[6,   100] loss: 0.823\n",
            "[6,   200] loss: 0.834\n",
            "[6,   300] loss: 0.828\n",
            "[6,   400] loss: 0.811\n",
            "[7,   100] loss: 0.829\n",
            "[7,   200] loss: 0.818\n",
            "[7,   300] loss: 0.811\n",
            "[7,   400] loss: 0.808\n",
            "[8,   100] loss: 0.792\n",
            "[8,   200] loss: 0.801\n",
            "[8,   300] loss: 0.802\n",
            "[8,   400] loss: 0.807\n",
            "[9,   100] loss: 0.798\n",
            "[9,   200] loss: 0.794\n",
            "[9,   300] loss: 0.790\n",
            "[9,   400] loss: 0.780\n",
            "[10,   100] loss: 0.783\n",
            "[10,   200] loss: 0.779\n",
            "[10,   300] loss: 0.782\n",
            "[10,   400] loss: 0.790\n",
            "[11,   100] loss: 0.766\n",
            "[11,   200] loss: 0.780\n",
            "[11,   300] loss: 0.785\n",
            "[11,   400] loss: 0.773\n",
            "[12,   100] loss: 0.762\n",
            "[12,   200] loss: 0.764\n",
            "[12,   300] loss: 0.744\n",
            "[12,   400] loss: 0.758\n",
            "[13,   100] loss: 0.753\n",
            "[13,   200] loss: 0.754\n",
            "[13,   300] loss: 0.755\n",
            "[13,   400] loss: 0.756\n",
            "[14,   100] loss: 0.751\n",
            "[14,   200] loss: 0.731\n",
            "[14,   300] loss: 0.751\n",
            "[14,   400] loss: 0.728\n",
            "[15,   100] loss: 0.747\n",
            "[15,   200] loss: 0.736\n",
            "[15,   300] loss: 0.725\n",
            "[15,   400] loss: 0.725\n",
            "[16,   100] loss: 0.733\n",
            "[16,   200] loss: 0.726\n",
            "[16,   300] loss: 0.728\n",
            "[16,   400] loss: 0.723\n",
            "[17,   100] loss: 0.713\n",
            "[17,   200] loss: 0.722\n",
            "[17,   300] loss: 0.717\n",
            "[17,   400] loss: 0.720\n",
            "[18,   100] loss: 0.712\n",
            "[18,   200] loss: 0.710\n",
            "[18,   300] loss: 0.712\n",
            "[18,   400] loss: 0.714\n"
          ]
        }
      ]
    },
    {
      "cell_type": "code",
      "source": [
        "# Test the network\n",
        "correct = 0\n",
        "total = 0\n",
        "with torch.no_grad():\n",
        "    for data in testloader:\n",
        "        images, labels = data[0].to(device), data[1].to(device)\n",
        "        outputs = alex(images)\n",
        "        _, predicted = torch.max(outputs.data, 1)\n",
        "        total += labels.size(0)\n",
        "        correct += (predicted == labels).sum().item()\n",
        "\n",
        "print('Accuracy of the network on 10000 test images: %d %%' % (\n",
        "    100 * correct / total))\n"
      ],
      "metadata": {
        "colab": {
          "base_uri": "https://localhost:8080/"
        },
        "id": "oN_3m0SehYNB",
        "outputId": "0b923526-a1e5-4a8a-9178-89bf6f794071"
      },
      "execution_count": null,
      "outputs": [
        {
          "output_type": "stream",
          "name": "stdout",
          "text": [
            "Accuracy of the network on the 10000 test images: 83 %\n"
          ]
        }
      ]
    }
  ]
}